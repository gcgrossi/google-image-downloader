{
 "cells": [
  {
   "cell_type": "markdown",
   "metadata": {},
   "source": [
    "# _G-i[mage]-dowloader_\n",
    "#### _Download Google images with Selenium and Python_\n",
    "***\n",
    "#### _*Introduction*_\n",
    "In this Jupyter notebook we will setup a chrome driver. Given a Google image search page the script downloads the images related to that search in a specified folder. Follow the cells below for a full explanation of the code."
   ]
  },
  {
   "cell_type": "markdown",
   "metadata": {},
   "source": [
    "#### _Imports_"
   ]
  },
  {
   "cell_type": "code",
   "execution_count": 1,
   "metadata": {
    "ExecuteTime": {
     "end_time": "2021-05-12T14:21:39.463118Z",
     "start_time": "2021-05-12T14:21:39.182847Z"
    },
    "code_folding": []
   },
   "outputs": [],
   "source": [
    "#import necessary packages\n",
    "from selenium import webdriver\n",
    "from selenium.webdriver.common.keys import Keys\n",
    "import os\n",
    "import traceback\n",
    "import requests\n",
    "import time"
   ]
  },
  {
   "cell_type": "markdown",
   "metadata": {},
   "source": [
    "#### _Start Chrome Session_\n",
    "- Setup a Chrome driver session with selenium.\n",
    "- the chromedriver file is supposed to be in the same directory of the notebook. Change it if needed."
   ]
  },
  {
   "cell_type": "code",
   "execution_count": 3,
   "metadata": {
    "ExecuteTime": {
     "end_time": "2021-05-12T14:28:37.142515Z",
     "start_time": "2021-05-12T14:28:35.915493Z"
    }
   },
   "outputs": [],
   "source": [
    "# setup a chrome driver and start a chrome session\n",
    "driver_path = os.path.join(os.getcwd(),'chromedriver.exe')\n",
    "chrome_options = webdriver.ChromeOptions()\n",
    "chrome_options.add_experimental_option('prefs', {'intl.accept_languages': 'en,en_US'})\n",
    "driver = webdriver.Chrome(driver_path,options=chrome_options)"
   ]
  },
  {
   "cell_type": "markdown",
   "metadata": {},
   "source": [
    "if everything went well a chrome browser was opened, just like in the image below.\n",
    "<img src=\"https://drive.google.com/uc?id=1aAjCU7II4b-FRxDzTML5M_TtjQe2yZq3\" width=\"600px\">\n",
    "***"
   ]
  },
  {
   "cell_type": "markdown",
   "metadata": {},
   "source": [
    "#### _Search the image needed_\n",
    "Now you can perform your search, like the one in the image below.\n",
    "***\n",
    "<img src=\"assets/google_image_search.png\" width=\"600px\">\n",
    "\n",
    "***\n",
    "\n",
    "Note that there are two elements highlighted in green. **_It is mandatory that those elements are visible_** during the download phase, because Selenium will interact with:\n",
    "* the image to download it\n",
    "* the chevron right icon to go to the next image\n",
    "***"
   ]
  },
  {
   "cell_type": "markdown",
   "metadata": {},
   "source": [
    "#### _HTML structure of the page_\n",
    "we can inspect the html structure of an element by right-clicking and selecting \"Inspect\". A navigation with the code will appear on the right.\n",
    "<img src=\"assets/image_html.png\" style =\"width:600px;margin-top:50px;margin-bottom:50px\">\n",
    "we are interested in the ```<img>``` tag and ```class``` attribute."
   ]
  },
  {
   "cell_type": "markdown",
   "metadata": {},
   "source": [
    "For demonstration purposes you can run the cell below. Selenium will search for all the elements with ```tag=\"img\"``` and ```class=\"n3VNCb\"``` and store it in a list."
   ]
  },
  {
   "cell_type": "code",
   "execution_count": 6,
   "metadata": {
    "ExecuteTime": {
     "end_time": "2021-05-12T15:23:37.718894Z",
     "start_time": "2021-05-12T15:23:37.128291Z"
    }
   },
   "outputs": [
    {
     "name": "stdout",
     "output_type": "stream",
     "text": [
      "I found 3 images with the same class\n"
     ]
    }
   ],
   "source": [
    "img_html_class=\"n3VNCb\"\n",
    "#find Image\n",
    "img=[im.get_attribute('src') for im in driver.find_elements_by_css_selector('img') if im.get_attribute(\"class\")==img_html_class]\n",
    "print(\"I found {} images with the same class\".format(len(img)))"
   ]
  },
  {
   "cell_type": "markdown",
   "metadata": {},
   "source": [
    "This is because the html structure of the page is so that the selected image, the previous one and the next one are all stored with the same tag and class. How to find it? trial and fail. I tried to dowload each of them and found out the structure. This is sometimes needed when scraping with Selenium or other libraries.\n",
    "\n",
    "In conclusion, the list is organized in this way ```[previous image,target image,next image]```, so that we should always select the ```[1]``` component to get our target image.\n",
    "\n",
    "The same applies to the chevron right icon we will use to go to next, with the difference that now ```tag=\"a\"``` and ```class=\"gvi3cf\"```."
   ]
  },
  {
   "cell_type": "markdown",
   "metadata": {},
   "source": [
    "#### _Wrap everything in a loop and start dowloading_"
   ]
  },
  {
   "cell_type": "code",
   "execution_count": null,
   "metadata": {
    "ExecuteTime": {
     "end_time": "2021-05-07T14:10:03.834401Z",
     "start_time": "2021-05-07T11:33:34.999156Z"
    }
   },
   "outputs": [],
   "source": [
    "nimages_to_download=600\n",
    "imagefoldername=\"images\"\n",
    "speciefoldername=\"whale_shark\"\n",
    "imagename=\"hammerhead-shark\"\n",
    "\n",
    "img_html_class=\"n3VNCb\"\n",
    "btn_html_class=\"gvi3cf\"\n",
    "\n",
    "image_folder = os.path.join(os.getcwd(),imagefoldername,speciefoldername)\n",
    "\n",
    "count=1\n",
    "while True:    \n",
    "    time.sleep(1)\n",
    "    \n",
    "    #find Image\n",
    "    img=[im.get_attribute('src') for im in driver.find_elements_by_css_selector('img') if im.get_attribute(\"class\")==img_html_class]\n",
    "\n",
    "    #Save File\n",
    "    try:\n",
    "        src=img[1]\n",
    "        reponse = requests.get(src,timeout=5)\n",
    "        if reponse.status_code == 200:\n",
    "            imageout=os.path.join(image_folder,src.split('/')[-1].split('?')[0])\n",
    "            print(imageout)\n",
    "            if \".jpg\" in imageout or \".ppg\" in imageout:\n",
    "            #imagename+\"_\"+str(count).zfill(9)+\".jpg\".format(count)\n",
    "                with open(imageout,\"wb\") as file:\n",
    "                    file.write(reponse.content)\n",
    "                    count+=1\n",
    "    except:\n",
    "        print(\"there was a problem in dowloading the image\")\n",
    "        traceback.print_exc()\n",
    "        \n",
    "    #Click Next        \n",
    "    btn=[im for im in driver.find_elements_by_css_selector('a') if im.get_attribute(\"class\")==btn_html_class]\n",
    "    btn[1].click()\n",
    "    \n",
    "    if count==nimages_to_download:break"
   ]
  },
  {
   "cell_type": "code",
   "execution_count": null,
   "metadata": {},
   "outputs": [],
   "source": []
  }
 ],
 "metadata": {
  "kernelspec": {
   "display_name": "Python 3",
   "language": "python",
   "name": "python3"
  },
  "language_info": {
   "codemirror_mode": {
    "name": "ipython",
    "version": 3
   },
   "file_extension": ".py",
   "mimetype": "text/x-python",
   "name": "python",
   "nbconvert_exporter": "python",
   "pygments_lexer": "ipython3",
   "version": "3.8.3"
  }
 },
 "nbformat": 4,
 "nbformat_minor": 4
}
